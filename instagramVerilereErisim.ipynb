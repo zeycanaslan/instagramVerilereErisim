{
 "cells": [
  {
   "cell_type": "code",
   "execution_count": 11,
   "id": "af3ea942",
   "metadata": {},
   "outputs": [
    {
     "name": "stdout",
     "output_type": "stream",
     "text": [
      "Enter the Instagram username: zeycanasln\n",
      "Followers Count: 84\n",
      "Following Count: 126\n",
      "Posts Count: 0\n"
     ]
    },
    {
     "data": {
      "text/plain": [
       "'\\nrequest = Request(full_url, headers={\\'User-Agent\\': \\'Mozilla/5.0\\'}):\\nBelirtilen kullanıcı ajanıyla bir HTTP isteği oluşturuyoruz. Kullanıcı ajanı, \\nbir web tarayıcısından yapılmış gibi görünmesini sağlamak için belirlenmiştir.\\n\\n\"meta\" etiketi HTML belgelerinde genellikle meta bilgilerini tanımlamak için kullanılır. \\n\\n\"og:description\" özelliği Open Graph protokolü tarafından tanımlanan bir meta özelliğidir. \\nOpen Graph protokolü, web sayfalarının sosyal medya platformları ve diğer çeşitli hizmetlerle paylaşılmasını\\nkolaylaştırmak için kullanılan bir protokoldür.\\n\\ndata_parts = [\"takipci\", \"sayisi:\", \"84\", \"takip\", \"edilen\", \"sayisi:\", \"138\", \"gönderi\", \"sayisi:\", \"0\"]\\nBu listenin elemanları şu şekildedir:\\ndata_parts[0]: \"takipci\"\\ndata_parts[1]: \"sayisi:\"\\ndata_parts[2]: \"84\"\\ndata_parts[3]: \"takip\"\\n\\n'"
      ]
     },
     "execution_count": 11,
     "metadata": {},
     "output_type": "execute_result"
    }
   ],
   "source": [
    "from bs4 import BeautifulSoup  #web sayfalarından veri çekmek ve HTML içeriğini Analiz etmek için\n",
    "from urllib.request import Request, urlopen  # HTTP istekleri yapmak için \n",
    "\n",
    "URL = \"https://instagram.com/\"\n",
    "\n",
    "def get_user_data(username):\n",
    "    full_url = URL + username\n",
    "\n",
    "    request = Request(full_url, headers={'User-Agent': 'Mozilla/5.0'})\n",
    "    html_data = urlopen(request).read()  #  URL'yi açıyor ve HTML içeriğini okuyoruz.\n",
    "\n",
    "    soup = BeautifulSoup(html_data, 'html.parser') \n",
    "\n",
    "    meta_description = soup.find(\"meta\", property=\"og:description\").attrs['content']\n",
    "    data_parts = meta_description.split(\"-\")[0].split()\n",
    "\n",
    "    followers_count = data_parts[0]  #Elde edilen veri parçalarından takipçi sayısını alıyoruz.\n",
    "    following_count = data_parts[2]\n",
    "    posts_count = data_parts[4]\n",
    "\n",
    "    print(f\"Followers Count: {followers_count}\")\n",
    "    print(f\"Following Count: {following_count}\")\n",
    "    print(f\"Posts Count: {posts_count}\")\n",
    "\n",
    "if __name__ == \"__main__\":\n",
    "    username_input = input(\"Enter the Instagram username: \")\n",
    "    get_user_data(username_input)\n",
    "\n",
    "    \n",
    "    \n",
    "\"\"\"\n",
    "request = Request(full_url, headers={'User-Agent': 'Mozilla/5.0'}):\n",
    "Belirtilen kullanıcı ajanıyla bir HTTP isteği oluşturuyoruz. Kullanıcı ajanı, \n",
    "bir web tarayıcısından yapılmış gibi görünmesini sağlamak için belirlenmiştir.\n",
    "\n",
    "\"meta\" etiketi HTML belgelerinde genellikle meta bilgilerini tanımlamak için kullanılır. \n",
    "\n",
    "\"og:description\" özelliği Open Graph protokolü tarafından tanımlanan bir meta özelliğidir. \n",
    "Open Graph protokolü, web sayfalarının sosyal medya platformları ve diğer çeşitli hizmetlerle paylaşılmasını\n",
    "kolaylaştırmak için kullanılan bir protokoldür.\n",
    "\n",
    "data_parts = [\"takipci\", \"sayisi:\", \"84\", \"takip\", \"edilen\", \"sayisi:\", \"138\", \"gönderi\", \"sayisi:\", \"0\"]\n",
    "Bu listenin elemanları şu şekildedir:\n",
    "data_parts[0]: \"takipci\"\n",
    "data_parts[1]: \"sayisi:\"\n",
    "data_parts[2]: \"84\"\n",
    "data_parts[3]: \"takip\"\n",
    "\n",
    "\"\"\""
   ]
  },
  {
   "cell_type": "code",
   "execution_count": null,
   "id": "d3da100b",
   "metadata": {},
   "outputs": [],
   "source": []
  }
 ],
 "metadata": {
  "kernelspec": {
   "display_name": "Python 3 (ipykernel)",
   "language": "python",
   "name": "python3"
  },
  "language_info": {
   "codemirror_mode": {
    "name": "ipython",
    "version": 3
   },
   "file_extension": ".py",
   "mimetype": "text/x-python",
   "name": "python",
   "nbconvert_exporter": "python",
   "pygments_lexer": "ipython3",
   "version": "3.11.5"
  }
 },
 "nbformat": 4,
 "nbformat_minor": 5
}
